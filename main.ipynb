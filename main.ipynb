{
 "cells": [
  {
   "cell_type": "code",
   "execution_count": 1,
   "metadata": {
    "collapsed": true,
    "pycharm": {
     "is_executing": false
    }
   },
   "outputs": [
    {
     "name": "stdout",
     "text": [
      "Requirement already satisfied: tensorflow==1.15.0 in /Users/siddhantkushwaha/.conda/envs/east_1x/lib/python3.7/site-packages (1.15.0)\r\nRequirement already satisfied: astor>=0.6.0 in /Users/siddhantkushwaha/.conda/envs/east_1x/lib/python3.7/site-packages (from tensorflow==1.15.0) (0.8.0)\r\nRequirement already satisfied: google-pasta>=0.1.6 in /Users/siddhantkushwaha/.conda/envs/east_1x/lib/python3.7/site-packages (from tensorflow==1.15.0) (0.1.7)\r\nRequirement already satisfied: grpcio>=1.8.6 in /Users/siddhantkushwaha/.conda/envs/east_1x/lib/python3.7/site-packages (from tensorflow==1.15.0) (1.24.3)\r\nRequirement already satisfied: wheel>=0.26 in /Users/siddhantkushwaha/.conda/envs/east_1x/lib/python3.7/site-packages (from tensorflow==1.15.0) (0.33.6)\r\n",
      "Requirement already satisfied: tensorboard<1.16.0,>=1.15.0 in /Users/siddhantkushwaha/.conda/envs/east_1x/lib/python3.7/site-packages (from tensorflow==1.15.0) (1.15.0)\r\nRequirement already satisfied: gast==0.2.2 in /Users/siddhantkushwaha/.conda/envs/east_1x/lib/python3.7/site-packages (from tensorflow==1.15.0) (0.2.2)\r\nRequirement already satisfied: opt-einsum>=2.3.2 in /Users/siddhantkushwaha/.conda/envs/east_1x/lib/python3.7/site-packages (from tensorflow==1.15.0) (3.1.0)\r\n",
      "Requirement already satisfied: tensorflow-estimator==1.15.1 in /Users/siddhantkushwaha/.conda/envs/east_1x/lib/python3.7/site-packages (from tensorflow==1.15.0) (1.15.1)\r\nRequirement already satisfied: numpy<2.0,>=1.16.0 in /Users/siddhantkushwaha/.conda/envs/east_1x/lib/python3.7/site-packages (from tensorflow==1.15.0) (1.17.3)\r\nRequirement already satisfied: protobuf>=3.6.1 in /Users/siddhantkushwaha/.conda/envs/east_1x/lib/python3.7/site-packages (from tensorflow==1.15.0) (3.10.0)\r\nRequirement already satisfied: keras-applications>=1.0.8 in /Users/siddhantkushwaha/.conda/envs/east_1x/lib/python3.7/site-packages (from tensorflow==1.15.0) (1.0.8)\r\nRequirement already satisfied: wrapt>=1.11.1 in /Users/siddhantkushwaha/.conda/envs/east_1x/lib/python3.7/site-packages (from tensorflow==1.15.0) (1.11.2)\r\n",
      "Requirement already satisfied: keras-preprocessing>=1.0.5 in /Users/siddhantkushwaha/.conda/envs/east_1x/lib/python3.7/site-packages (from tensorflow==1.15.0) (1.1.0)\r\n",
      "Requirement already satisfied: absl-py>=0.7.0 in /Users/siddhantkushwaha/.conda/envs/east_1x/lib/python3.7/site-packages (from tensorflow==1.15.0) (0.8.1)\r\n",
      "Requirement already satisfied: termcolor>=1.1.0 in /Users/siddhantkushwaha/.conda/envs/east_1x/lib/python3.7/site-packages (from tensorflow==1.15.0) (1.1.0)\r\nRequirement already satisfied: six>=1.10.0 in /Users/siddhantkushwaha/.conda/envs/east_1x/lib/python3.7/site-packages (from tensorflow==1.15.0) (1.12.0)\r\nRequirement already satisfied: werkzeug>=0.11.15 in /Users/siddhantkushwaha/.conda/envs/east_1x/lib/python3.7/site-packages (from tensorboard<1.16.0,>=1.15.0->tensorflow==1.15.0) (0.16.0)\r\n",
      "Requirement already satisfied: markdown>=2.6.8 in /Users/siddhantkushwaha/.conda/envs/east_1x/lib/python3.7/site-packages (from tensorboard<1.16.0,>=1.15.0->tensorflow==1.15.0) (3.1.1)\r\n",
      "Requirement already satisfied: setuptools>=41.0.0 in /Users/siddhantkushwaha/.conda/envs/east_1x/lib/python3.7/site-packages (from tensorboard<1.16.0,>=1.15.0->tensorflow==1.15.0) (41.6.0.post20191030)\r\nRequirement already satisfied: h5py in /Users/siddhantkushwaha/.conda/envs/east_1x/lib/python3.7/site-packages (from keras-applications>=1.0.8->tensorflow==1.15.0) (2.10.0)\r\n",
      "Requirement already satisfied: keras==2.1.5 in /Users/siddhantkushwaha/.conda/envs/east_1x/lib/python3.7/site-packages (2.1.5)\r\nRequirement already satisfied: pyyaml in /Users/siddhantkushwaha/.conda/envs/east_1x/lib/python3.7/site-packages (from keras==2.1.5) (5.1.2)\r\nRequirement already satisfied: six>=1.9.0 in /Users/siddhantkushwaha/.conda/envs/east_1x/lib/python3.7/site-packages (from keras==2.1.5) (1.12.0)\r\nRequirement already satisfied: scipy>=0.14 in /Users/siddhantkushwaha/.conda/envs/east_1x/lib/python3.7/site-packages (from keras==2.1.5) (1.3.1)\r\nRequirement already satisfied: numpy>=1.9.1 in /Users/siddhantkushwaha/.conda/envs/east_1x/lib/python3.7/site-packages (from keras==2.1.5) (1.17.3)\r\n"
     ],
     "output_type": "stream"
    }
   ],
   "source": [
    "!pip install tensorflow==1.15.0\n",
    "!pip install keras==2.1.5"
   ]
  },
  {
   "cell_type": "code",
   "execution_count": 2,
   "outputs": [
    {
     "name": "stdout",
     "text": [
      "Requirement already satisfied: opencv-python in /Users/siddhantkushwaha/.conda/envs/east_1x/lib/python3.7/site-packages (4.1.1.26)\r\nRequirement already satisfied: numpy>=1.14.5 in /Users/siddhantkushwaha/.conda/envs/east_1x/lib/python3.7/site-packages (from opencv-python) (1.17.3)\r\n",
      "Requirement already satisfied: matplotlib in /Users/siddhantkushwaha/.conda/envs/east_1x/lib/python3.7/site-packages (3.1.1)\r\nRequirement already satisfied: pyparsing!=2.0.4,!=2.1.2,!=2.1.6,>=2.0.1 in /Users/siddhantkushwaha/.conda/envs/east_1x/lib/python3.7/site-packages (from matplotlib) (2.4.2)\r\nRequirement already satisfied: cycler>=0.10 in /Users/siddhantkushwaha/.conda/envs/east_1x/lib/python3.7/site-packages (from matplotlib) (0.10.0)\r\nRequirement already satisfied: python-dateutil>=2.1 in /Users/siddhantkushwaha/.conda/envs/east_1x/lib/python3.7/site-packages (from matplotlib) (2.8.0)\r\nRequirement already satisfied: kiwisolver>=1.0.1 in /Users/siddhantkushwaha/.conda/envs/east_1x/lib/python3.7/site-packages (from matplotlib) (1.1.0)\r\nRequirement already satisfied: numpy>=1.11 in /Users/siddhantkushwaha/.conda/envs/east_1x/lib/python3.7/site-packages (from matplotlib) (1.17.3)\r\nRequirement already satisfied: six in /Users/siddhantkushwaha/.conda/envs/east_1x/lib/python3.7/site-packages (from cycler>=0.10->matplotlib) (1.12.0)\r\nRequirement already satisfied: setuptools in /Users/siddhantkushwaha/.conda/envs/east_1x/lib/python3.7/site-packages (from kiwisolver>=1.0.1->matplotlib) (41.6.0.post20191030)\r\n",
      "Requirement already satisfied: shapely in /Users/siddhantkushwaha/.conda/envs/east_1x/lib/python3.7/site-packages (1.6.4.post2)\r\n",
      "Requirement already satisfied: pillow in /Users/siddhantkushwaha/.conda/envs/east_1x/lib/python3.7/site-packages (6.2.1)\r\n"
     ],
     "output_type": "stream"
    }
   ],
   "source": [
    "!pip install opencv-python\n",
    "!pip install shapely"
   ],
   "metadata": {
    "collapsed": false,
    "pycharm": {
     "name": "#%%\n",
     "is_executing": false
    }
   }
  },
  {
   "cell_type": "code",
   "execution_count": null,
   "outputs": [],
   "source": [
    "!python train_v2.py --max_epochs=2 --save_checkpoint_epochs=1"
   ],
   "metadata": {
    "collapsed": false,
    "pycharm": {
     "name": "#%%\n"
    }
   }
  },
  {
   "cell_type": "code",
   "execution_count": null,
   "outputs": [],
   "source": [
    "!python eval.py --test_data_path=test --output_dir=out --model_path=models/east_v1/***.h5 "
   ],
   "metadata": {
    "collapsed": false,
    "pycharm": {
     "name": "#%%\n"
    }
   }
  },
  {
   "cell_type": "code",
   "execution_count": null,
   "outputs": [],
   "source": [
    "\n"
   ],
   "metadata": {
    "collapsed": false,
    "pycharm": {
     "name": "#%%\n"
    }
   }
  }
 ],
 "metadata": {
  "kernelspec": {
   "display_name": "Python 3",
   "language": "python",
   "name": "python3"
  },
  "language_info": {
   "codemirror_mode": {
    "name": "ipython",
    "version": 2
   },
   "file_extension": ".py",
   "mimetype": "text/x-python",
   "name": "python",
   "nbconvert_exporter": "python",
   "pygments_lexer": "ipython2",
   "version": "2.7.6"
  },
  "pycharm": {
   "stem_cell": {
    "cell_type": "raw",
    "source": [],
    "metadata": {
     "collapsed": false
    }
   }
  }
 },
 "nbformat": 4,
 "nbformat_minor": 0
}