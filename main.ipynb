{
 "cells": [
  {
   "cell_type": "code",
   "execution_count": 1,
   "metadata": {
    "collapsed": true,
    "pycharm": {
     "is_executing": false
    }
   },
   "outputs": [
    {
     "name": "stdout",
     "text": [
      "Requirement already satisfied: tensorflow==1.15.0 in /Users/siddhantkushwaha/.conda/envs/east_1x/lib/python3.7/site-packages (1.15.0)\r\nRequirement already satisfied: astor>=0.6.0 in /Users/siddhantkushwaha/.conda/envs/east_1x/lib/python3.7/site-packages (from tensorflow==1.15.0) (0.8.0)\r\nRequirement already satisfied: google-pasta>=0.1.6 in /Users/siddhantkushwaha/.conda/envs/east_1x/lib/python3.7/site-packages (from tensorflow==1.15.0) (0.1.7)\r\nRequirement already satisfied: grpcio>=1.8.6 in /Users/siddhantkushwaha/.conda/envs/east_1x/lib/python3.7/site-packages (from tensorflow==1.15.0) (1.24.3)\r\nRequirement already satisfied: wheel>=0.26 in /Users/siddhantkushwaha/.conda/envs/east_1x/lib/python3.7/site-packages (from tensorflow==1.15.0) (0.33.6)\r\n",
      "Requirement already satisfied: tensorboard<1.16.0,>=1.15.0 in /Users/siddhantkushwaha/.conda/envs/east_1x/lib/python3.7/site-packages (from tensorflow==1.15.0) (1.15.0)\r\nRequirement already satisfied: gast==0.2.2 in /Users/siddhantkushwaha/.conda/envs/east_1x/lib/python3.7/site-packages (from tensorflow==1.15.0) (0.2.2)\r\nRequirement already satisfied: opt-einsum>=2.3.2 in /Users/siddhantkushwaha/.conda/envs/east_1x/lib/python3.7/site-packages (from tensorflow==1.15.0) (3.1.0)\r\n",
      "Requirement already satisfied: tensorflow-estimator==1.15.1 in /Users/siddhantkushwaha/.conda/envs/east_1x/lib/python3.7/site-packages (from tensorflow==1.15.0) (1.15.1)\r\nRequirement already satisfied: numpy<2.0,>=1.16.0 in /Users/siddhantkushwaha/.conda/envs/east_1x/lib/python3.7/site-packages (from tensorflow==1.15.0) (1.17.3)\r\nRequirement already satisfied: protobuf>=3.6.1 in /Users/siddhantkushwaha/.conda/envs/east_1x/lib/python3.7/site-packages (from tensorflow==1.15.0) (3.10.0)\r\nRequirement already satisfied: keras-applications>=1.0.8 in /Users/siddhantkushwaha/.conda/envs/east_1x/lib/python3.7/site-packages (from tensorflow==1.15.0) (1.0.8)\r\nRequirement already satisfied: wrapt>=1.11.1 in /Users/siddhantkushwaha/.conda/envs/east_1x/lib/python3.7/site-packages (from tensorflow==1.15.0) (1.11.2)\r\n",
      "Requirement already satisfied: keras-preprocessing>=1.0.5 in /Users/siddhantkushwaha/.conda/envs/east_1x/lib/python3.7/site-packages (from tensorflow==1.15.0) (1.1.0)\r\n",
      "Requirement already satisfied: absl-py>=0.7.0 in /Users/siddhantkushwaha/.conda/envs/east_1x/lib/python3.7/site-packages (from tensorflow==1.15.0) (0.8.1)\r\n",
      "Requirement already satisfied: termcolor>=1.1.0 in /Users/siddhantkushwaha/.conda/envs/east_1x/lib/python3.7/site-packages (from tensorflow==1.15.0) (1.1.0)\r\nRequirement already satisfied: six>=1.10.0 in /Users/siddhantkushwaha/.conda/envs/east_1x/lib/python3.7/site-packages (from tensorflow==1.15.0) (1.12.0)\r\nRequirement already satisfied: werkzeug>=0.11.15 in /Users/siddhantkushwaha/.conda/envs/east_1x/lib/python3.7/site-packages (from tensorboard<1.16.0,>=1.15.0->tensorflow==1.15.0) (0.16.0)\r\n",
      "Requirement already satisfied: markdown>=2.6.8 in /Users/siddhantkushwaha/.conda/envs/east_1x/lib/python3.7/site-packages (from tensorboard<1.16.0,>=1.15.0->tensorflow==1.15.0) (3.1.1)\r\n",
      "Requirement already satisfied: setuptools>=41.0.0 in /Users/siddhantkushwaha/.conda/envs/east_1x/lib/python3.7/site-packages (from tensorboard<1.16.0,>=1.15.0->tensorflow==1.15.0) (41.6.0.post20191030)\r\nRequirement already satisfied: h5py in /Users/siddhantkushwaha/.conda/envs/east_1x/lib/python3.7/site-packages (from keras-applications>=1.0.8->tensorflow==1.15.0) (2.10.0)\r\n",
      "Requirement already satisfied: keras==2.1.5 in /Users/siddhantkushwaha/.conda/envs/east_1x/lib/python3.7/site-packages (2.1.5)\r\nRequirement already satisfied: pyyaml in /Users/siddhantkushwaha/.conda/envs/east_1x/lib/python3.7/site-packages (from keras==2.1.5) (5.1.2)\r\nRequirement already satisfied: six>=1.9.0 in /Users/siddhantkushwaha/.conda/envs/east_1x/lib/python3.7/site-packages (from keras==2.1.5) (1.12.0)\r\nRequirement already satisfied: scipy>=0.14 in /Users/siddhantkushwaha/.conda/envs/east_1x/lib/python3.7/site-packages (from keras==2.1.5) (1.3.1)\r\nRequirement already satisfied: numpy>=1.9.1 in /Users/siddhantkushwaha/.conda/envs/east_1x/lib/python3.7/site-packages (from keras==2.1.5) (1.17.3)\r\n"
     ],
     "output_type": "stream"
    }
   ],
   "source": [
    "!pip install tensorflow==1.15.0\n",
    "!pip install keras==2.1.5"
   ]
  },
  {
   "cell_type": "code",
   "execution_count": 2,
   "outputs": [
    {
     "name": "stdout",
     "text": [
      "Requirement already satisfied: opencv-python in /Users/siddhantkushwaha/.conda/envs/east_1x/lib/python3.7/site-packages (4.1.1.26)\r\nRequirement already satisfied: numpy>=1.14.5 in /Users/siddhantkushwaha/.conda/envs/east_1x/lib/python3.7/site-packages (from opencv-python) (1.17.3)\r\n",
      "Requirement already satisfied: matplotlib in /Users/siddhantkushwaha/.conda/envs/east_1x/lib/python3.7/site-packages (3.1.1)\r\nRequirement already satisfied: pyparsing!=2.0.4,!=2.1.2,!=2.1.6,>=2.0.1 in /Users/siddhantkushwaha/.conda/envs/east_1x/lib/python3.7/site-packages (from matplotlib) (2.4.2)\r\nRequirement already satisfied: cycler>=0.10 in /Users/siddhantkushwaha/.conda/envs/east_1x/lib/python3.7/site-packages (from matplotlib) (0.10.0)\r\nRequirement already satisfied: python-dateutil>=2.1 in /Users/siddhantkushwaha/.conda/envs/east_1x/lib/python3.7/site-packages (from matplotlib) (2.8.0)\r\nRequirement already satisfied: kiwisolver>=1.0.1 in /Users/siddhantkushwaha/.conda/envs/east_1x/lib/python3.7/site-packages (from matplotlib) (1.1.0)\r\nRequirement already satisfied: numpy>=1.11 in /Users/siddhantkushwaha/.conda/envs/east_1x/lib/python3.7/site-packages (from matplotlib) (1.17.3)\r\nRequirement already satisfied: six in /Users/siddhantkushwaha/.conda/envs/east_1x/lib/python3.7/site-packages (from cycler>=0.10->matplotlib) (1.12.0)\r\nRequirement already satisfied: setuptools in /Users/siddhantkushwaha/.conda/envs/east_1x/lib/python3.7/site-packages (from kiwisolver>=1.0.1->matplotlib) (41.6.0.post20191030)\r\n",
      "Requirement already satisfied: shapely in /Users/siddhantkushwaha/.conda/envs/east_1x/lib/python3.7/site-packages (1.6.4.post2)\r\n",
      "Requirement already satisfied: pillow in /Users/siddhantkushwaha/.conda/envs/east_1x/lib/python3.7/site-packages (6.2.1)\r\n"
     ],
     "output_type": "stream"
    }
   ],
   "source": [
    "!pip install opencv-python\n",
    "!pip install matplotlib\n",
    "!pip install shapely\n",
    "!pip install pillow\n",
    "!pip install pandas"
   ],
   "metadata": {
    "collapsed": false,
    "pycharm": {
     "name": "#%%\n",
     "is_executing": false
    }
   }
  },
  {
   "cell_type": "code",
   "execution_count": 3,
   "outputs": [
    {
     "name": "stdout",
     "text": [
      "Using TensorFlow backend.\r\n",
      "multiprocessing.pool.RemoteTraceback: \r\n\"\"\"\r\nTraceback (most recent call last):\r\n  File \"/Users/siddhantkushwaha/.conda/envs/east_1x/lib/python3.7/multiprocessing/pool.py\", line 121, in worker\r\n    result = (True, func(*args, **kwds))\r\n  File \"/Users/siddhantkushwaha/.conda/envs/east_1x/lib/python3.7/multiprocessing/pool.py\", line 44, in mapstar\r\n    return list(map(*args))\r\nTypeError: load_val_data_util() missing 1 required positional argument: 'image_path'\r\n\"\"\"\r\n\r\nThe above exception was the direct cause of the following exception:\r\n\r\nTraceback (most recent call last):\r\n  File \"train.py\", line 297, in <module>\r\n    main()\r\n  File \"train.py\", line 248, in main\r\n    val_data = data_processor_2.load_val_data(FLAGS)\r\n  File \"/Users/siddhantkushwaha/Documents/Workspace/east_1x/data_processor_2.py\", line 481, in load_val_data\r\n    timeout=9999999)\r\n  File \"/Users/siddhantkushwaha/.conda/envs/east_1x/lib/python3.7/multiprocessing/pool.py\", line 657, in get\r\n    raise self._value\r\nTypeError: load_val_data_util() missing 1 required positional argument: 'image_path'\r\n"
     ],
     "output_type": "stream"
    }
   ],
   "source": [
    "!python train.py --input_size=512 --batch_size=12 --nb_workers=6 --training_data_path=data/ICDAR2015/train_data/ --validation_data_path=data/ICDAR2015/val_data/ --checkpoint_path=tmp/east_resnet50/"
   ],
   "metadata": {
    "collapsed": false,
    "pycharm": {
     "name": "#%%\n",
     "is_executing": false
    }
   }
  },
  {
   "cell_type": "code",
   "execution_count": 4,
   "outputs": [
    {
     "name": "stdout",
     "text": [
      "Using TensorFlow backend.\r\n",
      "find: -xtype: unknown primary or operator\r\nmake: `adaptor.so' is up to date.\r\n",
      "WARNING:tensorflow:From /Users/siddhantkushwaha/.conda/envs/east_1x/lib/python3.7/site-packages/keras/backend/tensorflow_backend.py:507: The name tf.placeholder is deprecated. Please use tf.compat.v1.placeholder instead.\r\n\r\nWARNING:tensorflow:From /Users/siddhantkushwaha/.conda/envs/east_1x/lib/python3.7/site-packages/keras/backend/tensorflow_backend.py:3831: The name tf.random_uniform is deprecated. Please use tf.random.uniform instead.\r\n\r\n",
      "WARNING:tensorflow:From /Users/siddhantkushwaha/.conda/envs/east_1x/lib/python3.7/site-packages/keras/backend/tensorflow_backend.py:238: The name tf.get_default_graph is deprecated. Please use tf.compat.v1.get_default_graph instead.\r\n\r\nWARNING:tensorflow:From /Users/siddhantkushwaha/.conda/envs/east_1x/lib/python3.7/site-packages/keras/backend/tensorflow_backend.py:167: The name tf.get_default_session is deprecated. Please use tf.compat.v1.get_default_session instead.\r\n\r\nWARNING:tensorflow:From /Users/siddhantkushwaha/.conda/envs/east_1x/lib/python3.7/site-packages/keras/backend/tensorflow_backend.py:174: The name tf.ConfigProto is deprecated. Please use tf.compat.v1.ConfigProto instead.\r\n\r\nWARNING:tensorflow:From /Users/siddhantkushwaha/.conda/envs/east_1x/lib/python3.7/site-packages/keras/backend/tensorflow_backend.py:179: The name tf.Session is deprecated. Please use tf.compat.v1.Session instead.\r\n\r\n2019-10-31 23:34:19.093199: I tensorflow/core/platform/cpu_feature_guard.cc:142] Your CPU supports instructions that this TensorFlow binary was not compiled to use: AVX2 FMA\r\n",
      "2019-10-31 23:34:19.147730: I tensorflow/compiler/xla/service/service.cc:168] XLA service 0x7f94914e54e0 initialized for platform Host (this does not guarantee that XLA will be used). Devices:\r\n2019-10-31 23:34:19.147768: I tensorflow/compiler/xla/service/service.cc:176]   StreamExecutor device (0): Host, Default Version\r\nWARNING:tensorflow:From /Users/siddhantkushwaha/.conda/envs/east_1x/lib/python3.7/site-packages/keras/backend/tensorflow_backend.py:183: The name tf.global_variables is deprecated. Please use tf.compat.v1.global_variables instead.\r\n\r\nWARNING:tensorflow:From /Users/siddhantkushwaha/.conda/envs/east_1x/lib/python3.7/site-packages/keras/backend/tensorflow_backend.py:192: The name tf.is_variable_initialized is deprecated. Please use tf.compat.v1.is_variable_initialized instead.\r\n\r\n",
      "WARNING:tensorflow:From /Users/siddhantkushwaha/.conda/envs/east_1x/lib/python3.7/site-packages/keras/backend/tensorflow_backend.py:199: The name tf.variables_initializer is deprecated. Please use tf.compat.v1.variables_initializer instead.\r\n\r\n",
      "WARNING:tensorflow:From /Users/siddhantkushwaha/.conda/envs/east_1x/lib/python3.7/site-packages/keras/backend/tensorflow_backend.py:1797: The name tf.nn.fused_batch_norm is deprecated. Please use tf.compat.v1.nn.fused_batch_norm instead.\r\n\r\n",
      "WARNING:tensorflow:From /Users/siddhantkushwaha/.conda/envs/east_1x/lib/python3.7/site-packages/keras/backend/tensorflow_backend.py:126: The name tf.placeholder_with_default is deprecated. Please use tf.compat.v1.placeholder_with_default instead.\r\n\r\nWARNING:tensorflow:From /Users/siddhantkushwaha/.conda/envs/east_1x/lib/python3.7/site-packages/keras/backend/tensorflow_backend.py:3655: The name tf.nn.max_pool is deprecated. Please use tf.nn.max_pool2d instead.\r\n\r\n",
      "WARNING:tensorflow:From /content/model.py:13: The name tf.image.resize_bilinear is deprecated. Please use tf.compat.v1.image.resize_bilinear instead.\r\n\r\n",
      "^C\r\n"
     ],
     "output_type": "stream"
    }
   ],
   "source": [
    "!python eval.py --test_data_path=/Users/siddhantkushwaha/Desktop/east_out/test --model_path=/Users/siddhantkushwaha/Desktop/east_out/model-110.h5 --output_dir=/Users/siddhantkushwaha/Desktop/east_out/eval"
   ],
   "metadata": {
    "collapsed": false,
    "pycharm": {
     "name": "#%%\n",
     "is_executing": false
    }
   }
  },
  {
   "cell_type": "code",
   "execution_count": null,
   "outputs": [],
   "source": [
    "\n"
   ],
   "metadata": {
    "collapsed": false,
    "pycharm": {
     "name": "#%%\n"
    }
   }
  }
 ],
 "metadata": {
  "kernelspec": {
   "display_name": "Python 3",
   "language": "python",
   "name": "python3"
  },
  "language_info": {
   "codemirror_mode": {
    "name": "ipython",
    "version": 2
   },
   "file_extension": ".py",
   "mimetype": "text/x-python",
   "name": "python",
   "nbconvert_exporter": "python",
   "pygments_lexer": "ipython2",
   "version": "2.7.6"
  },
  "pycharm": {
   "stem_cell": {
    "cell_type": "raw",
    "source": [],
    "metadata": {
     "collapsed": false
    }
   }
  }
 },
 "nbformat": 4,
 "nbformat_minor": 0
}